{
 "cells": [
  {
   "cell_type": "code",
   "execution_count": 37,
   "metadata": {},
   "outputs": [],
   "source": [
    "import numpy as np\n",
    "from cmdstanpy import cmdstan_path, CmdStanModel"
   ]
  },
  {
   "cell_type": "markdown",
   "metadata": {},
   "source": [
    "7. You conduct an experiment in which some people get a special get-out-the-vote message and others do not. Then you follow up with a sample, after the election, to see if they voted. If you follow up with 500 people, how large an effect would you be able to detect so that, if the result had the expected outcome, the observed difference would be statistically significant?"
   ]
  },
  {
   "cell_type": "markdown",
   "metadata": {},
   "source": [
    "### Responses"
   ]
  },
  {
   "cell_type": "markdown",
   "metadata": {},
   "source": [
    "#### Analytical"
   ]
  },
  {
   "cell_type": "code",
   "execution_count": 34,
   "metadata": {},
   "outputs": [],
   "source": [
    "s1 = 250\n",
    "s2 = 250\n",
    "p1 = 0.5\n",
    "p2 = 0.5"
   ]
  },
  {
   "cell_type": "markdown",
   "metadata": {},
   "source": [
    "$\n",
    "\\begin{align}\n",
    "seCI95 = 1.96 * \\sqrt{\\dfrac{\\hat{p}_1(1-\\hat{p}_1)}{n_1}+\\dfrac{\\hat{p}_2(1-\\hat{p}_2)}{n_2}}\n",
    "\\end{align}\n",
    "$"
   ]
  },
  {
   "cell_type": "code",
   "execution_count": 36,
   "metadata": {},
   "outputs": [
    {
     "data": {
      "text/plain": [
       "0.08765386471799176"
      ]
     },
     "execution_count": 36,
     "metadata": {},
     "output_type": "execute_result"
    }
   ],
   "source": [
    "se = np.sqrt(p1*(1 - p1)/s1 + p2*(1 - p2)/s2)\n",
    "se * 1.96"
   ]
  },
  {
   "cell_type": "markdown",
   "metadata": {},
   "source": [
    "#### Stan"
   ]
  },
  {
   "cell_type": "code",
   "execution_count": null,
   "metadata": {},
   "outputs": [],
   "source": [
    "'''\n",
    "transformed data {\n",
    "    real theta = 0.5;\n",
    "    int N = 250;\n",
    "}\n",
    "generated quantities {\n",
    "    vector[N] y_sim;\n",
    "    for(i in 1:N) {\n",
    "        y_sim[i] = binomial_rng(1, theta);\n",
    "    }\n",
    "}  \n",
    "'''"
   ]
  },
  {
   "cell_type": "code",
   "execution_count": 41,
   "metadata": {},
   "outputs": [
    {
     "name": "stderr",
     "output_type": "stream",
     "text": [
      "INFO:cmdstanpy:compiling stan program, exe file: /Users/spetulla/Workspace/Sandbox/ds-practice/Regression/exercise7\n",
      "INFO:cmdstanpy:compiler options: stanc_options=None, cpp_options=None\n",
      "INFO:cmdstanpy:compiled model file: /Users/spetulla/Workspace/Sandbox/ds-practice/Regression/exercise7\n",
      "INFO:cmdstanpy:start chain 1\n",
      "INFO:cmdstanpy:finish chain 1\n"
     ]
    }
   ],
   "source": [
    "bino_model = CmdStanModel(stan_file='exercise7.stan')\n",
    "bino_fit = bino_model.sample('./output', fixed_param=True)"
   ]
  },
  {
   "cell_type": "code",
   "execution_count": 42,
   "metadata": {},
   "outputs": [
    {
     "data": {
      "text/html": [
       "<div>\n",
       "<style scoped>\n",
       "    .dataframe tbody tr th:only-of-type {\n",
       "        vertical-align: middle;\n",
       "    }\n",
       "\n",
       "    .dataframe tbody tr th {\n",
       "        vertical-align: top;\n",
       "    }\n",
       "\n",
       "    .dataframe thead th {\n",
       "        text-align: right;\n",
       "    }\n",
       "</style>\n",
       "<table border=\"1\" class=\"dataframe\">\n",
       "  <thead>\n",
       "    <tr style=\"text-align: right;\">\n",
       "      <th></th>\n",
       "      <th>Mean</th>\n",
       "      <th>MCSE</th>\n",
       "      <th>StdDev</th>\n",
       "      <th>5%</th>\n",
       "      <th>50%</th>\n",
       "      <th>95%</th>\n",
       "      <th>N_Eff</th>\n",
       "      <th>N_Eff/s</th>\n",
       "      <th>R_hat</th>\n",
       "    </tr>\n",
       "    <tr>\n",
       "      <th>name</th>\n",
       "      <th></th>\n",
       "      <th></th>\n",
       "      <th></th>\n",
       "      <th></th>\n",
       "      <th></th>\n",
       "      <th></th>\n",
       "      <th></th>\n",
       "      <th></th>\n",
       "      <th></th>\n",
       "    </tr>\n",
       "  </thead>\n",
       "  <tbody>\n",
       "    <tr>\n",
       "      <th>lp__</th>\n",
       "      <td>0.000</td>\n",
       "      <td>NaN</td>\n",
       "      <td>0.000000</td>\n",
       "      <td>0</td>\n",
       "      <td>0</td>\n",
       "      <td>0</td>\n",
       "      <td>NaN</td>\n",
       "      <td>NaN</td>\n",
       "      <td>NaN</td>\n",
       "    </tr>\n",
       "    <tr>\n",
       "      <th>y_sim[1]</th>\n",
       "      <td>0.490</td>\n",
       "      <td>0.015719</td>\n",
       "      <td>0.500150</td>\n",
       "      <td>0</td>\n",
       "      <td>0</td>\n",
       "      <td>1</td>\n",
       "      <td>1012.410</td>\n",
       "      <td>14475.1</td>\n",
       "      <td>0.999143</td>\n",
       "    </tr>\n",
       "    <tr>\n",
       "      <th>y_sim[2]</th>\n",
       "      <td>0.495</td>\n",
       "      <td>0.017894</td>\n",
       "      <td>0.500225</td>\n",
       "      <td>0</td>\n",
       "      <td>0</td>\n",
       "      <td>1</td>\n",
       "      <td>781.477</td>\n",
       "      <td>11173.4</td>\n",
       "      <td>1.001920</td>\n",
       "    </tr>\n",
       "    <tr>\n",
       "      <th>y_sim[3]</th>\n",
       "      <td>0.508</td>\n",
       "      <td>0.015534</td>\n",
       "      <td>0.500186</td>\n",
       "      <td>0</td>\n",
       "      <td>1</td>\n",
       "      <td>1</td>\n",
       "      <td>1036.860</td>\n",
       "      <td>14824.8</td>\n",
       "      <td>1.001710</td>\n",
       "    </tr>\n",
       "    <tr>\n",
       "      <th>y_sim[4]</th>\n",
       "      <td>0.472</td>\n",
       "      <td>0.016089</td>\n",
       "      <td>0.499465</td>\n",
       "      <td>0</td>\n",
       "      <td>0</td>\n",
       "      <td>1</td>\n",
       "      <td>963.744</td>\n",
       "      <td>13779.4</td>\n",
       "      <td>1.000030</td>\n",
       "    </tr>\n",
       "    <tr>\n",
       "      <th>...</th>\n",
       "      <td>...</td>\n",
       "      <td>...</td>\n",
       "      <td>...</td>\n",
       "      <td>...</td>\n",
       "      <td>...</td>\n",
       "      <td>...</td>\n",
       "      <td>...</td>\n",
       "      <td>...</td>\n",
       "      <td>...</td>\n",
       "    </tr>\n",
       "    <tr>\n",
       "      <th>y_sim[246]</th>\n",
       "      <td>0.496</td>\n",
       "      <td>0.015944</td>\n",
       "      <td>0.500234</td>\n",
       "      <td>0</td>\n",
       "      <td>0</td>\n",
       "      <td>1</td>\n",
       "      <td>984.377</td>\n",
       "      <td>14074.4</td>\n",
       "      <td>0.999255</td>\n",
       "    </tr>\n",
       "    <tr>\n",
       "      <th>y_sim[247]</th>\n",
       "      <td>0.497</td>\n",
       "      <td>0.016132</td>\n",
       "      <td>0.500241</td>\n",
       "      <td>0</td>\n",
       "      <td>0</td>\n",
       "      <td>1</td>\n",
       "      <td>961.606</td>\n",
       "      <td>13748.8</td>\n",
       "      <td>1.000440</td>\n",
       "    </tr>\n",
       "    <tr>\n",
       "      <th>y_sim[248]</th>\n",
       "      <td>0.506</td>\n",
       "      <td>0.015657</td>\n",
       "      <td>0.500214</td>\n",
       "      <td>0</td>\n",
       "      <td>1</td>\n",
       "      <td>1</td>\n",
       "      <td>1020.760</td>\n",
       "      <td>14594.6</td>\n",
       "      <td>0.998999</td>\n",
       "    </tr>\n",
       "    <tr>\n",
       "      <th>y_sim[249]</th>\n",
       "      <td>0.504</td>\n",
       "      <td>0.016347</td>\n",
       "      <td>0.500234</td>\n",
       "      <td>0</td>\n",
       "      <td>1</td>\n",
       "      <td>1</td>\n",
       "      <td>936.468</td>\n",
       "      <td>13389.4</td>\n",
       "      <td>0.999255</td>\n",
       "    </tr>\n",
       "    <tr>\n",
       "      <th>y_sim[250]</th>\n",
       "      <td>0.484</td>\n",
       "      <td>0.015731</td>\n",
       "      <td>0.499994</td>\n",
       "      <td>0</td>\n",
       "      <td>0</td>\n",
       "      <td>1</td>\n",
       "      <td>1010.160</td>\n",
       "      <td>14443.1</td>\n",
       "      <td>0.999576</td>\n",
       "    </tr>\n",
       "  </tbody>\n",
       "</table>\n",
       "<p>251 rows × 9 columns</p>\n",
       "</div>"
      ],
      "text/plain": [
       "             Mean      MCSE    StdDev  5%  50%  95%     N_Eff  N_Eff/s  \\\n",
       "name                                                                     \n",
       "lp__        0.000       NaN  0.000000   0    0    0       NaN      NaN   \n",
       "y_sim[1]    0.490  0.015719  0.500150   0    0    1  1012.410  14475.1   \n",
       "y_sim[2]    0.495  0.017894  0.500225   0    0    1   781.477  11173.4   \n",
       "y_sim[3]    0.508  0.015534  0.500186   0    1    1  1036.860  14824.8   \n",
       "y_sim[4]    0.472  0.016089  0.499465   0    0    1   963.744  13779.4   \n",
       "...           ...       ...       ...  ..  ...  ...       ...      ...   \n",
       "y_sim[246]  0.496  0.015944  0.500234   0    0    1   984.377  14074.4   \n",
       "y_sim[247]  0.497  0.016132  0.500241   0    0    1   961.606  13748.8   \n",
       "y_sim[248]  0.506  0.015657  0.500214   0    1    1  1020.760  14594.6   \n",
       "y_sim[249]  0.504  0.016347  0.500234   0    1    1   936.468  13389.4   \n",
       "y_sim[250]  0.484  0.015731  0.499994   0    0    1  1010.160  14443.1   \n",
       "\n",
       "               R_hat  \n",
       "name                  \n",
       "lp__             NaN  \n",
       "y_sim[1]    0.999143  \n",
       "y_sim[2]    1.001920  \n",
       "y_sim[3]    1.001710  \n",
       "y_sim[4]    1.000030  \n",
       "...              ...  \n",
       "y_sim[246]  0.999255  \n",
       "y_sim[247]  1.000440  \n",
       "y_sim[248]  0.998999  \n",
       "y_sim[249]  0.999255  \n",
       "y_sim[250]  0.999576  \n",
       "\n",
       "[251 rows x 9 columns]"
      ]
     },
     "execution_count": 42,
     "metadata": {},
     "output_type": "execute_result"
    }
   ],
   "source": [
    "bino_fit.summary()"
   ]
  },
  {
   "cell_type": "code",
   "execution_count": null,
   "metadata": {},
   "outputs": [],
   "source": []
  }
 ],
 "metadata": {
  "kernelspec": {
   "display_name": "Python 3",
   "language": "python",
   "name": "python3"
  },
  "language_info": {
   "codemirror_mode": {
    "name": "ipython",
    "version": 3
   },
   "file_extension": ".py",
   "mimetype": "text/x-python",
   "name": "python",
   "nbconvert_exporter": "python",
   "pygments_lexer": "ipython3",
   "version": "3.8.0"
  }
 },
 "nbformat": 4,
 "nbformat_minor": 4
}
