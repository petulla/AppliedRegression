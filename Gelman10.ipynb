{
 "cells": [
  {
   "cell_type": "code",
   "execution_count": 14,
   "metadata": {},
   "outputs": [],
   "source": [
    "import random\n",
    "import seaborn as sns\n",
    "import matplotlib.pyplot as plt"
   ]
  },
  {
   "cell_type": "markdown",
   "metadata": {},
   "source": [
    "10. For the above example, we then created indicator variables, age18_29, age30_44, age45_64, and age65up, for four age categories. We then fit a new regression:\n",
    "\n",
    "```r\n",
    "lm(formula = weight ~ age30_44 + age45_64 + age65up)\n",
    "             coef.est coef.se\n",
    "(Intercept)     157.2     5.4\n",
    "age30_44TRUE     19.1     7.0\n",
    "age45_64TRUE     27.2     7.6\n",
    "age65upTRUE       8.5     8.7\n",
    "  n = 2009, k = 4\n",
    "  residual sd = 119.4, R-Squared = 0.01\n",
    "```\n",
    "\n",
    "Make a graph of weight versus age (that is, weight in pounds on y-axis, age in years on x-axis) and draw the fitted regression model. Again, this graph should be consistent with the above computer output."
   ]
  },
  {
   "cell_type": "markdown",
   "metadata": {},
   "source": [
    "#### Responses"
   ]
  },
  {
   "cell_type": "code",
   "execution_count": 22,
   "metadata": {},
   "outputs": [],
   "source": [
    "x = range(18,91)\n",
    "y = [random.normalvariate(161, 7.3) +  random.normalvariate(0.26*a, 16) for a in x]"
   ]
  },
  {
   "cell_type": "code",
   "execution_count": 24,
   "metadata": {},
   "outputs": [
    {
     "data": {
      "image/png": "[encoded data removed]",
      "text/plain": [
       "<Figure size 432x288 with 1 Axes>"
      ]
     },
     "metadata": {
      "needs_background": "light"
     },
     "output_type": "display_data"
    }
   ],
   "source": [
    "ax = sns.scatterplot(x,y)\n",
    "plt.plot([18, 29], [157.2, 157.2], linewidth=3, c='green', alpha=1)\n",
    "plt.plot([30, 44], [157.2 + 19.1, 157.2 + 19.1], linewidth=3, c='green', alpha=1)\n",
    "plt.plot([45, 64], [157.2 + 27.2, 157.2 + 27.2], linewidth=3, c='green', alpha=1)\n",
    "plt.plot([65, 90], [157.2 + 8.5, 157.2 + 8.5], linewidth=3, c='green', alpha=1)\n",
    "ax.set(xlabel='Age', ylabel='Weight (lbs)', ylim=[60,280])\n",
    "plt.show()"
   ]
  }
 ],
 "metadata": {
  "kernelspec": {
   "display_name": "Python 3",
   "language": "python",
   "name": "python3"
  },
  "language_info": {
   "codemirror_mode": {
    "name": "ipython",
    "version": 3
   },
   "file_extension": ".py",
   "mimetype": "text/x-python",
   "name": "python",
   "nbconvert_exporter": "python",
   "pygments_lexer": "ipython3",
   "version": "3.8.0"
  }
 },
 "nbformat": 4,
 "nbformat_minor": 4
}
