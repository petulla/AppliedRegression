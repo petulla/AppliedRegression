{
 "cells": [
  {
   "cell_type": "code",
   "execution_count": 1,
   "metadata": {},
   "outputs": [],
   "source": [
    "import numpy as np"
   ]
  },
  {
   "cell_type": "markdown",
   "metadata": {},
   "source": [
    "Here is a fitted model from the Bangladesh analysis predicting whether a person with high-arsenic drinking water will switch wells, given the arsenic level in their existing well and the distance to the nearest safe well.\n",
    "\n",
    "```\n",
    "glm(formula = switch ~ dist100 + arsenic, family=binomial(link=\"logit\"))\n",
    "               coef.est coef.se\n",
    "(Intercept)        0.00    0.08\n",
    "dist100           -0.90    0.10\n",
    "arsenic            0.46    0.04\n",
    "n = 3020, k = 3\n",
    "```\n",
    "\n",
    "Compare two people who live the same distance from the nearest well but whose arsenic levels differ, with one person having an arsenic level of 0.5 and the other person having a level of 1.0. Approximately how much more likely is this second person to switch wells? Give an approximate estimate, standard error, and 95% interval."
   ]
  },
  {
   "cell_type": "code",
   "execution_count": 93,
   "metadata": {},
   "outputs": [
    {
     "name": "stdout",
     "output_type": "stream",
     "text": [
      "0.04875 0.0575 0.06625\n"
     ]
    }
   ],
   "source": [
    "# Can use rule of four, dividing the coefficients by four, as shortcut\n",
    "print(0.195/4, 0.23/4, 0.265/4)"
   ]
  },
  {
   "cell_type": "code",
   "execution_count": 135,
   "metadata": {},
   "outputs": [
    {
     "name": "stdout",
     "output_type": "stream",
     "text": [
      "0.04841128464278355 0.05727921427408966 0.06860336583757976\n"
     ]
    }
   ],
   "source": [
    "# Analytical probability, using an assumed distance of 50m\n",
    "toprob = lambda m: np.exp(m) / (1 + np.exp(m))\n",
    "print(toprob(0.39 - 0.45) - toprob(0.195 - 0.45), \n",
    "      toprob(0.46 - 0.45) - toprob(0.23 - 0.45), \n",
    "      toprob(0.54 - 0.45) - toprob(0.265 - 0.45))"
   ]
  }
 ],
 "metadata": {
  "kernelspec": {
   "display_name": "Python 3",
   "language": "python",
   "name": "python3"
  },
  "language_info": {
   "codemirror_mode": {
    "name": "ipython",
    "version": 3
   },
   "file_extension": ".py",
   "mimetype": "text/x-python",
   "name": "python",
   "nbconvert_exporter": "python",
   "pygments_lexer": "ipython3",
   "version": "3.8.0"
  }
 },
 "nbformat": 4,
 "nbformat_minor": 4
}
