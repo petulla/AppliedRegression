{
 "cells": [
  {
   "cell_type": "code",
   "execution_count": 28,
   "metadata": {},
   "outputs": [],
   "source": [
    "import numpy as np\n",
    "import statsmodels as sm\n",
    "from cmdstanpy import cmdstan_path, CmdStanModel\n",
    "import math\n",
    "from sklearn.linear_model import LogisticRegression\n",
    "import seaborn as sns\n",
    "import warnings\n",
    "warnings.filterwarnings('ignore')"
   ]
  },
  {
   "cell_type": "markdown",
   "metadata": {},
   "source": [
    "1. A randomized experiment is performed within a survey. 1000 people are contacted. Half the people contacted are promised a $5 incentive to participate, and half are not promised an incentive. The result is a 50% response rate among the treated group and 40% response rate among the control group.\n",
    "\n",
    " a. Give an estimate and standard error of the average treatment effect.\n",
    "\n",
    " b. Give code to fit a logistic regression of response on the treatment indicator. Give the complete code, including assigning the data, setting up the variables, etc. It is not enough to simply give the one line of code for running the logistic regression."
   ]
  },
  {
   "cell_type": "markdown",
   "metadata": {},
   "source": [
    "### Estimates"
   ]
  },
  {
   "cell_type": "markdown",
   "metadata": {},
   "source": [
    "#### Stan"
   ]
  },
  {
   "cell_type": "code",
   "execution_count": null,
   "metadata": {},
   "outputs": [],
   "source": [
    "'''\n",
    "parameters {\n",
    "  real alpha;  //  treatment\n",
    "  real beta;  // control\n",
    "}\n",
    "model {\n",
    "  250 ~ binomial_logit(500, alpha);\n",
    "  200 ~ binomial_logit(500, beta);\n",
    "}\n",
    "generated quantities {\n",
    "  real delta = alpha - beta;\n",
    "}    \n",
    "'''\n",
    "#via Bob Carpenter in Gelman blog comments"
   ]
  },
  {
   "cell_type": "code",
   "execution_count": 80,
   "metadata": {},
   "outputs": [
    {
     "name": "stderr",
     "output_type": "stream",
     "text": [
      "INFO:cmdstanpy:compiling stan program, exe file: /Users/spetulla/Workspace/Sandbox/ds-practice/Regression/exercise1\n",
      "INFO:cmdstanpy:compiler options: stanc_options=None, cpp_options=None\n",
      "INFO:cmdstanpy:compiled model file: /Users/spetulla/Workspace/Sandbox/ds-practice/Regression/exercise1\n",
      "INFO:cmdstanpy:start chain 1\n",
      "INFO:cmdstanpy:start chain 2\n",
      "INFO:cmdstanpy:start chain 3\n",
      "INFO:cmdstanpy:start chain 4\n",
      "INFO:cmdstanpy:finish chain 1\n",
      "INFO:cmdstanpy:finish chain 2\n",
      "INFO:cmdstanpy:finish chain 3\n",
      "INFO:cmdstanpy:finish chain 4\n"
     ]
    }
   ],
   "source": [
    "bino_model = CmdStanModel(stan_file='exercise1.stan')\n",
    "bino_fit = bino_model.sample('./output')"
   ]
  },
  {
   "cell_type": "code",
   "execution_count": 81,
   "metadata": {},
   "outputs": [
    {
     "data": {
      "text/html": [
       "<div>\n",
       "<style scoped>\n",
       "    .dataframe tbody tr th:only-of-type {\n",
       "        vertical-align: middle;\n",
       "    }\n",
       "\n",
       "    .dataframe tbody tr th {\n",
       "        vertical-align: top;\n",
       "    }\n",
       "\n",
       "    .dataframe thead th {\n",
       "        text-align: right;\n",
       "    }\n",
       "</style>\n",
       "<table border=\"1\" class=\"dataframe\">\n",
       "  <thead>\n",
       "    <tr style=\"text-align: right;\">\n",
       "      <th></th>\n",
       "      <th>Mean</th>\n",
       "      <th>MCSE</th>\n",
       "      <th>StdDev</th>\n",
       "      <th>5%</th>\n",
       "      <th>50%</th>\n",
       "      <th>95%</th>\n",
       "      <th>N_Eff</th>\n",
       "      <th>N_Eff/s</th>\n",
       "      <th>R_hat</th>\n",
       "    </tr>\n",
       "    <tr>\n",
       "      <th>name</th>\n",
       "      <th></th>\n",
       "      <th></th>\n",
       "      <th></th>\n",
       "      <th></th>\n",
       "      <th></th>\n",
       "      <th></th>\n",
       "      <th></th>\n",
       "      <th></th>\n",
       "      <th></th>\n",
       "    </tr>\n",
       "  </thead>\n",
       "  <tbody>\n",
       "    <tr>\n",
       "      <th>lp__</th>\n",
       "      <td>-684.061000</td>\n",
       "      <td>0.022687</td>\n",
       "      <td>0.984280</td>\n",
       "      <td>-685.992000</td>\n",
       "      <td>-683.762000</td>\n",
       "      <td>-683.128000</td>\n",
       "      <td>1882.35</td>\n",
       "      <td>29479.0</td>\n",
       "      <td>1.00040</td>\n",
       "    </tr>\n",
       "    <tr>\n",
       "      <th>alpha</th>\n",
       "      <td>-0.000021</td>\n",
       "      <td>0.001601</td>\n",
       "      <td>0.090096</td>\n",
       "      <td>-0.150502</td>\n",
       "      <td>0.002382</td>\n",
       "      <td>0.146618</td>\n",
       "      <td>3168.07</td>\n",
       "      <td>49614.2</td>\n",
       "      <td>1.00038</td>\n",
       "    </tr>\n",
       "    <tr>\n",
       "      <th>beta</th>\n",
       "      <td>-0.406683</td>\n",
       "      <td>0.001502</td>\n",
       "      <td>0.089006</td>\n",
       "      <td>-0.551859</td>\n",
       "      <td>-0.405274</td>\n",
       "      <td>-0.260359</td>\n",
       "      <td>3513.51</td>\n",
       "      <td>55024.2</td>\n",
       "      <td>1.00020</td>\n",
       "    </tr>\n",
       "    <tr>\n",
       "      <th>delta</th>\n",
       "      <td>0.406662</td>\n",
       "      <td>0.002235</td>\n",
       "      <td>0.128011</td>\n",
       "      <td>0.197845</td>\n",
       "      <td>0.406044</td>\n",
       "      <td>0.610964</td>\n",
       "      <td>3279.79</td>\n",
       "      <td>51363.9</td>\n",
       "      <td>1.00097</td>\n",
       "    </tr>\n",
       "  </tbody>\n",
       "</table>\n",
       "</div>"
      ],
      "text/plain": [
       "             Mean      MCSE    StdDev          5%         50%         95%  \\\n",
       "name                                                                        \n",
       "lp__  -684.061000  0.022687  0.984280 -685.992000 -683.762000 -683.128000   \n",
       "alpha   -0.000021  0.001601  0.090096   -0.150502    0.002382    0.146618   \n",
       "beta    -0.406683  0.001502  0.089006   -0.551859   -0.405274   -0.260359   \n",
       "delta    0.406662  0.002235  0.128011    0.197845    0.406044    0.610964   \n",
       "\n",
       "         N_Eff  N_Eff/s    R_hat  \n",
       "name                              \n",
       "lp__   1882.35  29479.0  1.00040  \n",
       "alpha  3168.07  49614.2  1.00038  \n",
       "beta   3513.51  55024.2  1.00020  \n",
       "delta  3279.79  51363.9  1.00097  "
      ]
     },
     "execution_count": 81,
     "metadata": {},
     "output_type": "execute_result"
    }
   ],
   "source": [
    "bino_fit.summary()"
   ]
  },
  {
   "cell_type": "code",
   "execution_count": 184,
   "metadata": {},
   "outputs": [
    {
     "name": "stdout",
     "output_type": "stream",
     "text": [
      "Stan estimate: 0.10054963289605962\n"
     ]
    }
   ],
   "source": [
    "print(f'Stan estimate: {inv_logit(0.002382) - inv_logit(-0.405274)}')"
   ]
  },
  {
   "cell_type": "markdown",
   "metadata": {},
   "source": [
    "#### Analytic estimate"
   ]
  },
  {
   "cell_type": "code",
   "execution_count": 171,
   "metadata": {},
   "outputs": [
    {
     "name": "stdout",
     "output_type": "stream",
     "text": [
      "estimate: 0.09999999999999998, se: 0.03130495168499706\n"
     ]
    }
   ],
   "source": [
    "a = 0.5 - 0.4\n",
    "# se = sqrt(σ1/n1 + σ2/n2)\n",
    "σ1 = 0.5*0.5\n",
    "σ2 = 0.6*0.4\n",
    "n1,n2 = 500,500\n",
    "se = math.sqrt((σ1/n1) + (σ2/n2))\n",
    "print(f'estimate: {a}, se: {se}')"
   ]
  },
  {
   "cell_type": "markdown",
   "metadata": {},
   "source": [
    "#### Logistic regression and interpretation"
   ]
  },
  {
   "cell_type": "code",
   "execution_count": 151,
   "metadata": {},
   "outputs": [
    {
     "name": "stdout",
     "output_type": "stream",
     "text": [
      "c,t 0.3989500027010817 -0.4021416132970716\n"
     ]
    }
   ],
   "source": [
    "lr = LogisticRegression()\n",
    "# 1 = treatment\n",
    "# 0 = control\n",
    "t = [1] * 500 + [0] * 500\n",
    "y = [1] * 250 + [0] * 250 + [1] * 200 + [0] * 300\n",
    "\n",
    "lr.fit(np.array(t).reshape(-1,1), np.array(y).reshape(-1,1))\n",
    "print('c,t',*lr.coef_[0], *lr.intercept_)"
   ]
  },
  {
   "cell_type": "code",
   "execution_count": 146,
   "metadata": {},
   "outputs": [
    {
     "name": "stdout",
     "output_type": "stream",
     "text": [
      "0.6688860158289345\n",
      "1.4902591078146699\n"
     ]
    }
   ],
   "source": [
    "#odds ratio of control to treatment\n",
    "print(math.exp(lr.intercept_))\n",
    "#odds ratio of treatment to control\n",
    "print(math.exp(lr.coef_))\n",
    "# for se, use statsmodel"
   ]
  },
  {
   "cell_type": "code",
   "execution_count": 145,
   "metadata": {},
   "outputs": [
    {
     "name": "stdout",
     "output_type": "stream",
     "text": [
      "0.6666666666666666\n",
      "1.5\n"
     ]
    }
   ],
   "source": [
    "# matches analytical odds ratios\n",
    "print((200/300) / (250/250))\n",
    "print((250/250) / (200/300))"
   ]
  }
 ],
 "metadata": {
  "kernelspec": {
   "display_name": "Python 3",
   "language": "python",
   "name": "python3"
  },
  "language_info": {
   "codemirror_mode": {
    "name": "ipython",
    "version": 3
   },
   "file_extension": ".py",
   "mimetype": "text/x-python",
   "name": "python",
   "nbconvert_exporter": "python",
   "pygments_lexer": "ipython3",
   "version": "3.8.0"
  }
 },
 "nbformat": 4,
 "nbformat_minor": 4
}
