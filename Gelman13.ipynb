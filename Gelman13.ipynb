{
 "cells": [
  {
   "cell_type": "markdown",
   "metadata": {},
   "source": [
    "13. You fit a model of the form: `y ∼ x + u full + (1 | group)`. The estimated coefficients are 2.5, 0.7, and 0.5 respectively for the intercept, x, and u full, with group and individual residual standard deviations estimated as 2.0 and 3.0 respectively. Write the above model as\n",
    "\n",
    "```\n",
    "y_i = a_j[i] + bx + ε_i\n",
    "a_j = A + Bu_j + η_j.\n",
    "```\n",
    "\n",
    "(a) Give the estimates of b, A, and B together with the estimated distributions of the error terms.\n",
    "\n",
    "(b) Ignoring uncertainty in the parameter estimates, give the predictive standard deviation for a new observation in an existing group and for a new observation in a new group."
   ]
  },
  {
   "cell_type": "markdown",
   "metadata": {},
   "source": [
    "#### Responses"
   ]
  },
  {
   "cell_type": "markdown",
   "metadata": {},
   "source": [
    "a. Quoting Gelman's blog (can't say it better than this..): The estimates of b, A, and B are 0.7, 2.5, and 0.5, respectively, and the estimated distributions are `ε ~ normal(0, 3.0)` and `η ~ normal(0, 2.0)`."
   ]
  },
  {
   "cell_type": "markdown",
   "metadata": {},
   "source": [
    "b. 3.0 for existing group; 3.6 (pooled errors `sqrt(3.0^2 + 2.0^2))` for a new group"
   ]
  }
 ],
 "metadata": {
  "kernelspec": {
   "display_name": "Python 3",
   "language": "python",
   "name": "python3"
  },
  "language_info": {
   "codemirror_mode": {
    "name": "ipython",
    "version": 3
   },
   "file_extension": ".py",
   "mimetype": "text/x-python",
   "name": "python",
   "nbconvert_exporter": "python",
   "pygments_lexer": "ipython3",
   "version": "3.8.0"
  }
 },
 "nbformat": 4,
 "nbformat_minor": 4
}
