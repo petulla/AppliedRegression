{
 "cells": [
  {
   "cell_type": "code",
   "execution_count": 1,
   "metadata": {},
   "outputs": [],
   "source": [
    "import numpy as np\n",
    "from cmdstanpy import CmdStanModel\n",
    "import math\n",
    "import warnings\n",
    "warnings.filterwarnings('ignore')"
   ]
  },
  {
   "cell_type": "markdown",
   "metadata": {},
   "source": [
    "2. A multiple-choice test item has four options. Assume that a student taking this question either knows the answer or does a pure guess. A random sample of 100 students take the item. 60% get it correct. Give an estimate and 95% confidence interval for the percentage in the population who know the answer."
   ]
  },
  {
   "cell_type": "markdown",
   "metadata": {},
   "source": [
    "### Analytical"
   ]
  },
  {
   "cell_type": "code",
   "execution_count": 124,
   "metadata": {},
   "outputs": [
    {
     "data": {
      "text/plain": [
       "0.4666666666666666"
      ]
     },
     "execution_count": 124,
     "metadata": {},
     "output_type": "execute_result"
    }
   ],
   "source": [
    "#0.6 = 0.25 + 0.75theta\n",
    "estimate = (0.6 - 0.25) / 0.75\n",
    "estimate"
   ]
  },
  {
   "cell_type": "code",
   "execution_count": 125,
   "metadata": {},
   "outputs": [
    {
     "data": {
      "text/plain": [
       "0.13037597294358977"
      ]
     },
     "execution_count": 125,
     "metadata": {},
     "output_type": "execute_result"
    }
   ],
   "source": [
    "#0.6 = 0.25 + 0.75theta\n",
    "# 1.96 se's in each direction for 0.025/0.975\n",
    "se = 1.96 * (math.sqrt((estimate * (1 - estimate)) / 100)) / 0.75\n",
    "se"
   ]
  },
  {
   "cell_type": "code",
   "execution_count": 123,
   "metadata": {},
   "outputs": [
    {
     "name": "stdout",
     "output_type": "stream",
     "text": [
      "0.33629069372307685 0.4666666666666666 0.5970426396102564\n"
     ]
    }
   ],
   "source": [
    "print(estimate - se, estimate, estimate + se)"
   ]
  },
  {
   "cell_type": "markdown",
   "metadata": {},
   "source": [
    "### Stan"
   ]
  },
  {
   "cell_type": "code",
   "execution_count": null,
   "metadata": {},
   "outputs": [],
   "source": [
    "'''\n",
    "data {\n",
    "    int N;\n",
    "}\n",
    "transformed data {\n",
    "    real theta = 0.25;\n",
    "}\n",
    "generated quantities {\n",
    "    vector[N] y_sim;\n",
    "    for(i in 1:N) {\n",
    "        y_sim[i] = binomial_rng(N - i, theta) + i;\n",
    "    }\n",
    "}\n",
    "'''"
   ]
  },
  {
   "cell_type": "code",
   "execution_count": 108,
   "metadata": {},
   "outputs": [
    {
     "name": "stderr",
     "output_type": "stream",
     "text": [
      "INFO:cmdstanpy:found newer exe file, not recompiling\n",
      "INFO:cmdstanpy:compiled model file: /Users/spetulla/Workspace/Sandbox/ds-practice/Regression/exercise2\n",
      "INFO:cmdstanpy:start chain 1\n",
      "INFO:cmdstanpy:finish chain 1\n"
     ]
    },
    {
     "name": "stdout",
     "output_type": "stream",
     "text": [
      "46% takers who know the answer results in total correct % (We need 60%): 59.57\n",
      "47% takers who know the answer results in total correct % (We need 60%): 60.34\n"
     ]
    }
   ],
   "source": [
    "# n test takers\n",
    "N = 100\n",
    "bino_model = CmdStanModel(stan_file='exercise2.stan')\n",
    "bino_fit = bino_model.sample(output_dir='./output', data={'N': N}, fixed_param=True)\n",
    "\n",
    "# 90 ci result:\n",
    "#0.05%: 38%, mean: 47%, 95%: 53%,\n",
    "for i, v in enumerate(bino_fit.summary()['Mean']):\n",
    "    if v > (0.595 * N) and v < (0.605 * N):\n",
    "        print(f'{i}% takers who know the answer results in total correct % (We need 60%):',round(v, 2))"
   ]
  },
  {
   "cell_type": "code",
   "execution_count": null,
   "metadata": {},
   "outputs": [],
   "source": []
  },
  {
   "cell_type": "code",
   "execution_count": null,
   "metadata": {},
   "outputs": [],
   "source": []
  }
 ],
 "metadata": {
  "kernelspec": {
   "display_name": "Python 3",
   "language": "python",
   "name": "python3"
  },
  "language_info": {
   "codemirror_mode": {
    "name": "ipython",
    "version": 3
   },
   "file_extension": ".py",
   "mimetype": "text/x-python",
   "name": "python",
   "nbconvert_exporter": "python",
   "pygments_lexer": "ipython3",
   "version": "3.8.0"
  }
 },
 "nbformat": 4,
 "nbformat_minor": 4
}
